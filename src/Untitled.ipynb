{
 "cells": [
  {
   "cell_type": "code",
   "execution_count": 1,
   "id": "f6c649f2",
   "metadata": {},
   "outputs": [],
   "source": [
    "from Bio import SeqIO\n",
    "\n",
    "contig_lengths = list(map(len, SeqIO.parse(open('out_contig.fa', 'r'), 'fasta')))\n",
    "sum_contig_length = sum(contig_lengths)"
   ]
  },
  {
   "cell_type": "code",
   "execution_count": 2,
   "id": "f4f10bbd",
   "metadata": {},
   "outputs": [
    {
     "name": "stdout",
     "output_type": "stream",
     "text": [
      "Общая длина контигов: 3927278\n",
      "Количество контигов: 631\n",
      "Максимальная длина контига: 179307\n"
     ]
    }
   ],
   "source": [
    "print(f'Общая длина контигов: {sum_contig_length}')\n",
    "print(f'Количество контигов: {len(contig_lengths)}')\n",
    "print(f'Максимальная длина контига: {max(contig_lengths)}')"
   ]
  },
  {
   "cell_type": "code",
   "execution_count": 3,
   "id": "d1ac36c7",
   "metadata": {},
   "outputs": [],
   "source": [
    "current_sum_contig_length = 0\n",
    "for contig_length in sorted(contig_lengths, reverse=True):\n",
    "    current_sum_contig_length += contig_length\n",
    "    if current_sum_contig_length * 2 >= sum_contig_length:\n",
    "        n50 = contig_length\n",
    "        break"
   ]
  },
  {
   "cell_type": "code",
   "execution_count": 4,
   "id": "c5e6e17a",
   "metadata": {},
   "outputs": [
    {
     "name": "stdout",
     "output_type": "stream",
     "text": [
      "Контиг N50: 53968\n"
     ]
    }
   ],
   "source": [
    "print(f'Контиг N50: {n50}')"
   ]
  },
  {
   "cell_type": "code",
   "execution_count": 5,
   "id": "bd3e6c72",
   "metadata": {},
   "outputs": [],
   "source": [
    "scaffold_lengths = list(map(len, SeqIO.parse(open('out_scaffold.fa', 'r'), 'fasta')))\n",
    "sum_scaffold_length = sum(scaffold_lengths)"
   ]
  },
  {
   "cell_type": "code",
   "execution_count": 6,
   "id": "8404ac04",
   "metadata": {},
   "outputs": [
    {
     "name": "stdout",
     "output_type": "stream",
     "text": [
      "Общая длина скаффолдов: 3873863\n",
      "Количество скаффолдов: 69\n",
      "Максимальная длина скаффолда: 3831988\n"
     ]
    }
   ],
   "source": [
    "print(f'Общая длина скаффолдов: {sum_scaffold_length}')\n",
    "print(f'Количество скаффолдов: {len(scaffold_lengths)}')\n",
    "print(f'Максимальная длина скаффолда: {max(scaffold_lengths)}')"
   ]
  },
  {
   "cell_type": "code",
   "execution_count": 7,
   "id": "1a042ca8",
   "metadata": {},
   "outputs": [],
   "source": [
    "current_sum_scaffold_length = 0\n",
    "for scaffold_length in sorted(scaffold_lengths, reverse=True):\n",
    "    current_sum_scaffold_length += scaffold_length\n",
    "    if current_sum_scaffold_length * 2 >= sum_scaffold_length:\n",
    "        n50 = scaffold_length\n",
    "        break"
   ]
  },
  {
   "cell_type": "code",
   "execution_count": 8,
   "id": "3b65e420",
   "metadata": {
    "scrolled": true
   },
   "outputs": [
    {
     "name": "stdout",
     "output_type": "stream",
     "text": [
      "Скаффолд N50: 3831988\n"
     ]
    }
   ],
   "source": [
    "print(f'Скаффолд N50: {n50}')"
   ]
  },
  {
   "cell_type": "code",
   "execution_count": 9,
   "id": "a13399fe",
   "metadata": {},
   "outputs": [
    {
     "name": "stdout",
     "output_type": "stream",
     "text": [
      "Общая длина гэпов: 5966\n",
      "Количество гэпов: 61\n"
     ]
    }
   ],
   "source": [
    "import re\n",
    "\n",
    "for scaffold in SeqIO.parse(open('out_scaffold.fa', 'r'), 'fasta'):\n",
    "    if len(scaffold) == max(scaffold_lengths):\n",
    "        print(f'Общая длина гэпов: {str(scaffold.seq).count(\"N\")}')\n",
    "        print(f'Количество гэпов: {len(re.findall(\"N{4,}\", str(scaffold.seq)))}')\n",
    "        break"
   ]
  },
  {
   "cell_type": "code",
   "execution_count": 10,
   "id": "541e33ee",
   "metadata": {},
   "outputs": [
    {
     "name": "stdout",
     "output_type": "stream",
     "text": [
      "Общая длина гэпов после gapClose: 1774\n",
      "Количество гэпов после gapClose: 8\n"
     ]
    }
   ],
   "source": [
    "gapClosed_scaffold_lengths = list(map(len, SeqIO.parse(open('out_gapClosed.fa', 'r'), 'fasta')))\n",
    "\n",
    "for scaffold in SeqIO.parse(open('out_gapClosed.fa', 'r'), 'fasta'):\n",
    "    if len(scaffold) == max(gapClosed_scaffold_lengths):\n",
    "        print(f'Общая длина гэпов после gapClose: {str(scaffold.seq).count(\"N\")}')\n",
    "        print(f'Количество гэпов после gapClose: {len(re.findall(\"N{4,}\", str(scaffold.seq)))}')\n",
    "        break"
   ]
  }
 ],
 "metadata": {
  "interpreter": {
   "hash": "e7370f93d1d0cde622a1f8e1c04877d8463912d04d973331ad4851f04de6915a"
  },
  "kernelspec": {
   "display_name": "Python 3.9.7 64-bit",
   "name": "python3"
  },
  "language_info": {
   "codemirror_mode": {
    "name": "ipython",
    "version": 3
   },
   "file_extension": ".py",
   "mimetype": "text/x-python",
   "name": "python",
   "nbconvert_exporter": "python",
   "pygments_lexer": "ipython3",
   "version": "3.9.7"
  }
 },
 "nbformat": 4,
 "nbformat_minor": 5
}
